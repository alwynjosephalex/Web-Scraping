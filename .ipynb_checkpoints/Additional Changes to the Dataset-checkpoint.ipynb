{
 "cells": [
  {
   "cell_type": "code",
   "execution_count": 1,
   "metadata": {},
   "outputs": [],
   "source": [
    "import pandas as pd"
   ]
  },
  {
   "cell_type": "code",
   "execution_count": 2,
   "metadata": {},
   "outputs": [],
   "source": [
    "d1 = pd.read_csv('episode-list.csv')\n",
    "d2 = pd.read_csv('viewership_data.csv')"
   ]
  },
  {
   "cell_type": "code",
   "execution_count": 3,
   "metadata": {},
   "outputs": [
    {
     "data": {
      "text/html": [
       "<div>\n",
       "<style scoped>\n",
       "    .dataframe tbody tr th:only-of-type {\n",
       "        vertical-align: middle;\n",
       "    }\n",
       "\n",
       "    .dataframe tbody tr th {\n",
       "        vertical-align: top;\n",
       "    }\n",
       "\n",
       "    .dataframe thead th {\n",
       "        text-align: right;\n",
       "    }\n",
       "</style>\n",
       "<table border=\"1\" class=\"dataframe\">\n",
       "  <thead>\n",
       "    <tr style=\"text-align: right;\">\n",
       "      <th></th>\n",
       "      <th>season</th>\n",
       "      <th>episode_number</th>\n",
       "      <th>image_url</th>\n",
       "      <th>title</th>\n",
       "      <th>airdate</th>\n",
       "      <th>rating</th>\n",
       "      <th>total_votes</th>\n",
       "      <th>desc</th>\n",
       "    </tr>\n",
       "  </thead>\n",
       "  <tbody>\n",
       "    <tr>\n",
       "      <th>0</th>\n",
       "      <td>1</td>\n",
       "      <td>1</td>\n",
       "      <td>https://m.media-amazon.com/images/M/MV5BMmVhOD...</td>\n",
       "      <td>Winter Is Coming</td>\n",
       "      <td>18 Apr. 2011</td>\n",
       "      <td>8.9</td>\n",
       "      <td>51300</td>\n",
       "      <td>Eddard Stark is torn between his family and an...</td>\n",
       "    </tr>\n",
       "    <tr>\n",
       "      <th>1</th>\n",
       "      <td>1</td>\n",
       "      <td>2</td>\n",
       "      <td>https://m.media-amazon.com/images/M/MV5BYzhhOT...</td>\n",
       "      <td>The Kingsroad</td>\n",
       "      <td>25 Apr. 2011</td>\n",
       "      <td>8.6</td>\n",
       "      <td>38774</td>\n",
       "      <td>While Bran recovers from his fall, Ned takes o...</td>\n",
       "    </tr>\n",
       "    <tr>\n",
       "      <th>2</th>\n",
       "      <td>1</td>\n",
       "      <td>3</td>\n",
       "      <td>https://m.media-amazon.com/images/M/MV5BZjcwNz...</td>\n",
       "      <td>Lord Snow</td>\n",
       "      <td>2 May 2011</td>\n",
       "      <td>8.5</td>\n",
       "      <td>36680</td>\n",
       "      <td>Jon begins his training with the Night's Watch...</td>\n",
       "    </tr>\n",
       "    <tr>\n",
       "      <th>3</th>\n",
       "      <td>1</td>\n",
       "      <td>4</td>\n",
       "      <td>https://m.media-amazon.com/images/M/MV5BMDc0ZT...</td>\n",
       "      <td>Cripples, Bastards, and Broken Things</td>\n",
       "      <td>9 May 2011</td>\n",
       "      <td>8.6</td>\n",
       "      <td>34891</td>\n",
       "      <td>Eddard investigates Jon Arryn's murder. Jon be...</td>\n",
       "    </tr>\n",
       "    <tr>\n",
       "      <th>4</th>\n",
       "      <td>1</td>\n",
       "      <td>5</td>\n",
       "      <td>https://m.media-amazon.com/images/M/MV5BZDA2ZT...</td>\n",
       "      <td>The Wolf and the Lion</td>\n",
       "      <td>16 May 2011</td>\n",
       "      <td>9.0</td>\n",
       "      <td>36262</td>\n",
       "      <td>Catelyn has captured Tyrion and plans to bring...</td>\n",
       "    </tr>\n",
       "  </tbody>\n",
       "</table>\n",
       "</div>"
      ],
      "text/plain": [
       "   season  episode_number                                          image_url  \\\n",
       "0       1               1  https://m.media-amazon.com/images/M/MV5BMmVhOD...   \n",
       "1       1               2  https://m.media-amazon.com/images/M/MV5BYzhhOT...   \n",
       "2       1               3  https://m.media-amazon.com/images/M/MV5BZjcwNz...   \n",
       "3       1               4  https://m.media-amazon.com/images/M/MV5BMDc0ZT...   \n",
       "4       1               5  https://m.media-amazon.com/images/M/MV5BZDA2ZT...   \n",
       "\n",
       "                                   title       airdate  rating  total_votes  \\\n",
       "0                       Winter Is Coming  18 Apr. 2011     8.9        51300   \n",
       "1                          The Kingsroad  25 Apr. 2011     8.6        38774   \n",
       "2                              Lord Snow    2 May 2011     8.5        36680   \n",
       "3  Cripples, Bastards, and Broken Things    9 May 2011     8.6        34891   \n",
       "4                  The Wolf and the Lion   16 May 2011     9.0        36262   \n",
       "\n",
       "                                                desc  \n",
       "0  Eddard Stark is torn between his family and an...  \n",
       "1  While Bran recovers from his fall, Ned takes o...  \n",
       "2  Jon begins his training with the Night's Watch...  \n",
       "3  Eddard investigates Jon Arryn's murder. Jon be...  \n",
       "4  Catelyn has captured Tyrion and plans to bring...  "
      ]
     },
     "execution_count": 3,
     "metadata": {},
     "output_type": "execute_result"
    }
   ],
   "source": [
    "d1.head()"
   ]
  },
  {
   "cell_type": "code",
   "execution_count": 4,
   "metadata": {},
   "outputs": [
    {
     "data": {
      "text/html": [
       "<div>\n",
       "<style scoped>\n",
       "    .dataframe tbody tr th:only-of-type {\n",
       "        vertical-align: middle;\n",
       "    }\n",
       "\n",
       "    .dataframe tbody tr th {\n",
       "        vertical-align: top;\n",
       "    }\n",
       "\n",
       "    .dataframe thead th {\n",
       "        text-align: right;\n",
       "    }\n",
       "</style>\n",
       "<table border=\"1\" class=\"dataframe\">\n",
       "  <thead>\n",
       "    <tr style=\"text-align: right;\">\n",
       "      <th></th>\n",
       "      <th>season</th>\n",
       "      <th>episode_number</th>\n",
       "      <th>total_viewers</th>\n",
       "    </tr>\n",
       "  </thead>\n",
       "  <tbody>\n",
       "    <tr>\n",
       "      <th>0</th>\n",
       "      <td>1</td>\n",
       "      <td>1</td>\n",
       "      <td>2.22</td>\n",
       "    </tr>\n",
       "    <tr>\n",
       "      <th>1</th>\n",
       "      <td>1</td>\n",
       "      <td>2</td>\n",
       "      <td>2.20</td>\n",
       "    </tr>\n",
       "    <tr>\n",
       "      <th>2</th>\n",
       "      <td>1</td>\n",
       "      <td>3</td>\n",
       "      <td>2.44</td>\n",
       "    </tr>\n",
       "    <tr>\n",
       "      <th>3</th>\n",
       "      <td>1</td>\n",
       "      <td>4</td>\n",
       "      <td>2.45</td>\n",
       "    </tr>\n",
       "    <tr>\n",
       "      <th>4</th>\n",
       "      <td>1</td>\n",
       "      <td>5</td>\n",
       "      <td>2.58</td>\n",
       "    </tr>\n",
       "  </tbody>\n",
       "</table>\n",
       "</div>"
      ],
      "text/plain": [
       "   season  episode_number  total_viewers\n",
       "0       1               1           2.22\n",
       "1       1               2           2.20\n",
       "2       1               3           2.44\n",
       "3       1               4           2.45\n",
       "4       1               5           2.58"
      ]
     },
     "execution_count": 4,
     "metadata": {},
     "output_type": "execute_result"
    }
   ],
   "source": [
    "d2.head()"
   ]
  },
  {
   "cell_type": "code",
   "execution_count": 6,
   "metadata": {},
   "outputs": [
    {
     "data": {
      "text/html": [
       "<div>\n",
       "<style scoped>\n",
       "    .dataframe tbody tr th:only-of-type {\n",
       "        vertical-align: middle;\n",
       "    }\n",
       "\n",
       "    .dataframe tbody tr th {\n",
       "        vertical-align: top;\n",
       "    }\n",
       "\n",
       "    .dataframe thead th {\n",
       "        text-align: right;\n",
       "    }\n",
       "</style>\n",
       "<table border=\"1\" class=\"dataframe\">\n",
       "  <thead>\n",
       "    <tr style=\"text-align: right;\">\n",
       "      <th></th>\n",
       "      <th>season</th>\n",
       "      <th>episode_number</th>\n",
       "      <th>image_url</th>\n",
       "      <th>title</th>\n",
       "      <th>airdate</th>\n",
       "      <th>rating</th>\n",
       "      <th>total_votes</th>\n",
       "      <th>desc</th>\n",
       "      <th>total_viewers</th>\n",
       "    </tr>\n",
       "  </thead>\n",
       "  <tbody>\n",
       "    <tr>\n",
       "      <th>0</th>\n",
       "      <td>1</td>\n",
       "      <td>1</td>\n",
       "      <td>https://m.media-amazon.com/images/M/MV5BMmVhOD...</td>\n",
       "      <td>Winter Is Coming</td>\n",
       "      <td>18 Apr. 2011</td>\n",
       "      <td>8.9</td>\n",
       "      <td>51300</td>\n",
       "      <td>Eddard Stark is torn between his family and an...</td>\n",
       "      <td>2.22</td>\n",
       "    </tr>\n",
       "    <tr>\n",
       "      <th>1</th>\n",
       "      <td>1</td>\n",
       "      <td>2</td>\n",
       "      <td>https://m.media-amazon.com/images/M/MV5BYzhhOT...</td>\n",
       "      <td>The Kingsroad</td>\n",
       "      <td>25 Apr. 2011</td>\n",
       "      <td>8.6</td>\n",
       "      <td>38774</td>\n",
       "      <td>While Bran recovers from his fall, Ned takes o...</td>\n",
       "      <td>2.20</td>\n",
       "    </tr>\n",
       "    <tr>\n",
       "      <th>2</th>\n",
       "      <td>1</td>\n",
       "      <td>3</td>\n",
       "      <td>https://m.media-amazon.com/images/M/MV5BZjcwNz...</td>\n",
       "      <td>Lord Snow</td>\n",
       "      <td>2 May 2011</td>\n",
       "      <td>8.5</td>\n",
       "      <td>36680</td>\n",
       "      <td>Jon begins his training with the Night's Watch...</td>\n",
       "      <td>2.44</td>\n",
       "    </tr>\n",
       "    <tr>\n",
       "      <th>3</th>\n",
       "      <td>1</td>\n",
       "      <td>4</td>\n",
       "      <td>https://m.media-amazon.com/images/M/MV5BMDc0ZT...</td>\n",
       "      <td>Cripples, Bastards, and Broken Things</td>\n",
       "      <td>9 May 2011</td>\n",
       "      <td>8.6</td>\n",
       "      <td>34891</td>\n",
       "      <td>Eddard investigates Jon Arryn's murder. Jon be...</td>\n",
       "      <td>2.45</td>\n",
       "    </tr>\n",
       "    <tr>\n",
       "      <th>4</th>\n",
       "      <td>1</td>\n",
       "      <td>5</td>\n",
       "      <td>https://m.media-amazon.com/images/M/MV5BZDA2ZT...</td>\n",
       "      <td>The Wolf and the Lion</td>\n",
       "      <td>16 May 2011</td>\n",
       "      <td>9.0</td>\n",
       "      <td>36262</td>\n",
       "      <td>Catelyn has captured Tyrion and plans to bring...</td>\n",
       "      <td>2.58</td>\n",
       "    </tr>\n",
       "  </tbody>\n",
       "</table>\n",
       "</div>"
      ],
      "text/plain": [
       "   season  episode_number                                          image_url  \\\n",
       "0       1               1  https://m.media-amazon.com/images/M/MV5BMmVhOD...   \n",
       "1       1               2  https://m.media-amazon.com/images/M/MV5BYzhhOT...   \n",
       "2       1               3  https://m.media-amazon.com/images/M/MV5BZjcwNz...   \n",
       "3       1               4  https://m.media-amazon.com/images/M/MV5BMDc0ZT...   \n",
       "4       1               5  https://m.media-amazon.com/images/M/MV5BZDA2ZT...   \n",
       "\n",
       "                                   title       airdate  rating  total_votes  \\\n",
       "0                       Winter Is Coming  18 Apr. 2011     8.9        51300   \n",
       "1                          The Kingsroad  25 Apr. 2011     8.6        38774   \n",
       "2                              Lord Snow    2 May 2011     8.5        36680   \n",
       "3  Cripples, Bastards, and Broken Things    9 May 2011     8.6        34891   \n",
       "4                  The Wolf and the Lion   16 May 2011     9.0        36262   \n",
       "\n",
       "                                                desc  total_viewers  \n",
       "0  Eddard Stark is torn between his family and an...           2.22  \n",
       "1  While Bran recovers from his fall, Ned takes o...           2.20  \n",
       "2  Jon begins his training with the Night's Watch...           2.44  \n",
       "3  Eddard investigates Jon Arryn's murder. Jon be...           2.45  \n",
       "4  Catelyn has captured Tyrion and plans to bring...           2.58  "
      ]
     },
     "execution_count": 6,
     "metadata": {},
     "output_type": "execute_result"
    }
   ],
   "source": [
    "joined_data = pd.merge(d1,d2,on=['season','episode_number'])\n",
    "joined_data.head()"
   ]
  },
  {
   "cell_type": "code",
   "execution_count": 7,
   "metadata": {},
   "outputs": [
    {
     "data": {
      "text/plain": [
       "8.682089552238807"
      ]
     },
     "execution_count": 7,
     "metadata": {},
     "output_type": "execute_result"
    }
   ],
   "source": [
    "joined_data['rating'].mean()"
   ]
  },
  {
   "cell_type": "code",
   "execution_count": 8,
   "metadata": {},
   "outputs": [],
   "source": [
    "joined_data['series_avg'] = 9.2"
   ]
  },
  {
   "cell_type": "code",
   "execution_count": 13,
   "metadata": {},
   "outputs": [],
   "source": [
    "joined_data['season_expanded'] = joined_data['season'].apply(str).apply(lambda x: \"Season \"+x)"
   ]
  },
  {
   "cell_type": "code",
   "execution_count": 19,
   "metadata": {},
   "outputs": [],
   "source": [
    "def expand(df):\n",
    "    season = str(df['season'])\n",
    "    episode = str(df['episode_number'])\n",
    "    return \"S\"+season+\"-E\"+episode"
   ]
  },
  {
   "cell_type": "code",
   "execution_count": 21,
   "metadata": {},
   "outputs": [],
   "source": [
    "joined_data['episode_expanded'] = joined_data.apply(expand,axis=1)"
   ]
  },
  {
   "cell_type": "code",
   "execution_count": 23,
   "metadata": {},
   "outputs": [],
   "source": [
    "def ep_name_expanded(df):\n",
    "    ep_name = df['title']\n",
    "    season = str(df['season'])\n",
    "    episode = str(df['episode_number'])\n",
    "    return  ep_name +\" (\"+\"S\"+season+\"-E\"+episode+\")\""
   ]
  },
  {
   "cell_type": "code",
   "execution_count": 24,
   "metadata": {},
   "outputs": [],
   "source": [
    "joined_data['ep_name_expanded'] = joined_data.apply(ep_name_expanded,axis=1)"
   ]
  },
  {
   "cell_type": "code",
   "execution_count": 33,
   "metadata": {},
   "outputs": [],
   "source": [
    "joined_data.to_csv('GoTEpisodeData.csv',index=False)"
   ]
  }
 ],
 "metadata": {
  "kernelspec": {
   "display_name": "Python 3",
   "language": "python",
   "name": "python3"
  },
  "language_info": {
   "codemirror_mode": {
    "name": "ipython",
    "version": 3
   },
   "file_extension": ".py",
   "mimetype": "text/x-python",
   "name": "python",
   "nbconvert_exporter": "python",
   "pygments_lexer": "ipython3",
   "version": "3.7.4"
  }
 },
 "nbformat": 4,
 "nbformat_minor": 2
}
